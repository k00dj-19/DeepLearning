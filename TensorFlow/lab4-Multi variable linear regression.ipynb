{
 "cells": [
  {
   "cell_type": "markdown",
   "metadata": {},
   "source": [
    "## Without Matrix"
   ]
  },
  {
   "cell_type": "code",
   "execution_count": 5,
   "metadata": {},
   "outputs": [
    {
     "name": "stdout",
     "output_type": "stream",
     "text": [
      "    0 |    7761.2021\n",
      "   50 |     103.2358\n",
      "  100 |      18.2179\n",
      "  150 |      17.2295\n",
      "  200 |      17.1738\n",
      "  250 |      17.1285\n",
      "  300 |      17.0835\n",
      "  350 |      17.0385\n",
      "  400 |      16.9938\n",
      "  450 |      16.9491\n",
      "  500 |      16.9046\n",
      "  550 |      16.8601\n",
      "  600 |      16.8158\n",
      "  650 |      16.7715\n",
      "  700 |      16.7276\n",
      "  750 |      16.6836\n",
      "  800 |      16.6398\n",
      "  850 |      16.5960\n",
      "  900 |      16.5525\n",
      "  950 |      16.5090\n",
      " 1000 |      16.4657\n"
     ]
    }
   ],
   "source": [
    "import tensorflow as tf\n",
    "\n",
    "# data and Label\n",
    "x1 = [73.,93.,89.,96.,73.]\n",
    "x2 = [80.,88.,91.,98.,66.]\n",
    "x3 = [75.,93.,90.,100.,70.]\n",
    "Y = [152.,185.,180.,196.,142.]\n",
    "\n",
    "# weights\n",
    "w1 = tf.Variable(tf.random.normal([1]))\n",
    "w2 = tf.Variable(tf.random.normal([1]))\n",
    "w3 = tf.Variable(tf.random.normal([1]))\n",
    "b = tf.Variable(tf.random.normal([1]))\n",
    "\n",
    "learning_rate = 0.000001\n",
    "\n",
    "for i in range(1000+1):\n",
    "    # tf.GradientTape() to record the gradient of the cost function\n",
    "    with tf.GradientTape() as tape:\n",
    "        hypothesis = w1*x1 + w2*x2 + w3*x3 + b\n",
    "        cost = tf.reduce_mean(tf.square(hypothesis - Y))\n",
    "    # calculates the gradients of the cost\n",
    "    w1_grad, w2_grad, w3_grad, b_grad = tape.gradient(cost, [w1,w2,w3,b])\n",
    "    \n",
    "    # update w1,w2,w3 and b\n",
    "    w1.assign_sub(learning_rate * w1_grad)\n",
    "    w2.assign_sub(learning_rate * w2_grad)\n",
    "    w3.assign_sub(learning_rate * w3_grad)\n",
    "    b.assign_sub(learning_rate * b_grad)\n",
    "    \n",
    "    if i%50 == 0:\n",
    "        print(\"{:5} | {:12.4f}\".format(i, cost.numpy()))\n"
   ]
  },
  {
   "cell_type": "markdown",
   "metadata": {},
   "source": [
    "## With Matrix"
   ]
  },
  {
   "cell_type": "code",
   "execution_count": 8,
   "metadata": {},
   "outputs": [
    {
     "name": "stdout",
     "output_type": "stream",
     "text": [
      "    0 |   78636.6016\n",
      "  100 |      29.1850\n",
      "  200 |      19.4170\n",
      "  300 |      19.3264\n",
      "  400 |      19.2375\n",
      "  500 |      19.1491\n",
      "  600 |      19.0612\n",
      "  700 |      18.9738\n",
      "  800 |      18.8868\n",
      "  900 |      18.8002\n",
      " 1000 |      18.7141\n",
      " 1100 |      18.6285\n",
      " 1200 |      18.5434\n",
      " 1300 |      18.4587\n",
      " 1400 |      18.3744\n",
      " 1500 |      18.2906\n",
      " 1600 |      18.2073\n",
      " 1700 |      18.1244\n",
      " 1800 |      18.0419\n",
      " 1900 |      17.9598\n",
      " 2000 |      17.8783\n"
     ]
    }
   ],
   "source": [
    "import numpy as np\n",
    "\n",
    "data = np.array([\n",
    "    # X1, X2,  X3,   y\n",
    "    [73., 80., 75., 152.],\n",
    "    [93., 88., 93., 185.],\n",
    "    [89., 91., 90., 180.],\n",
    "    [96., 98., 100., 196.],\n",
    "    [73., 66., 70., 142.]\n",
    "], dtype=np.float32)\n",
    "\n",
    "# slice data\n",
    "X = data[:, :-1]\n",
    "Y = data[:, [-1]]\n",
    "\n",
    "W = tf.Variable(tf.random.normal([3,1]))\n",
    "b = tf.Variable(tf.random.normal([1]))\n",
    "\n",
    "learning_rate = 0.000001\n",
    "\n",
    "# hypothesis, prediction function\n",
    "def predict(x):\n",
    "    return tf.matmul(x, W) + b\n",
    "\n",
    "n_epochs = 2000\n",
    "for i in range(n_epochs+1):\n",
    "    # record the gradient of the cost function\n",
    "    with tf.GradientTape() as tape:\n",
    "        cost = tf.reduce_mean(tf.square(predict(X) - Y))\n",
    "    \n",
    "    # calculates the gradients of the loss\n",
    "    W_grad, b_grad = tape.gradient(cost, [W,b])\n",
    "    \n",
    "    # updates parameters (W and b)\n",
    "    W.assign_sub(learning_rate * W_grad)\n",
    "    b.assign_sub(learning_rate * b_grad)\n",
    "    \n",
    "    if i%100 == 0:\n",
    "        print(\"{:5} | {:12.4f}\".format(i, cost.numpy()))"
   ]
  }
 ],
 "metadata": {
  "kernelspec": {
   "display_name": "Python 3",
   "language": "python",
   "name": "python3"
  },
  "language_info": {
   "codemirror_mode": {
    "name": "ipython",
    "version": 3
   },
   "file_extension": ".py",
   "mimetype": "text/x-python",
   "name": "python",
   "nbconvert_exporter": "python",
   "pygments_lexer": "ipython3",
   "version": "3.7.4"
  }
 },
 "nbformat": 4,
 "nbformat_minor": 4
}
