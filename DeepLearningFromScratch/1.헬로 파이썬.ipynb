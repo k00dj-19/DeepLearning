{
 "cells": [
  {
   "cell_type": "markdown",
   "metadata": {},
   "source": [
    "## 1.5.3 넘파이의 산술 연산"
   ]
  },
  {
   "cell_type": "code",
   "execution_count": 4,
   "metadata": {},
   "outputs": [
    {
     "name": "stdout",
     "output_type": "stream",
     "text": [
      "[1. 2. 3.]\n",
      "<class 'numpy.ndarray'>\n",
      "[ 2.  8. 18.]\n",
      "[3. 6. 9.]\n"
     ]
    }
   ],
   "source": [
    "import numpy as np\n",
    "x = np.array([1.0, 2.0, 3.0])\n",
    "y = np.array([2.0, 4.0, 6.0])\n",
    "print(x)\n",
    "print(type(x))\n",
    "print(x*y)\n",
    "print(x+y)"
   ]
  },
  {
   "cell_type": "markdown",
   "metadata": {},
   "source": [
    "## 1.5.4 넘파이의 N차원 배열"
   ]
  },
  {
   "cell_type": "code",
   "execution_count": 15,
   "metadata": {},
   "outputs": [
    {
     "name": "stdout",
     "output_type": "stream",
     "text": [
      "A :  [[1 2]\n",
      " [3 4]]\n",
      "(2, 2)\n",
      "int64\n",
      "C :  [[ 4  2]\n",
      " [ 3 10]]\n",
      "D :  [[ 3  0]\n",
      " [ 0 24]]\n",
      "A*10 :  [[10 20]\n",
      " [30 40]]\n"
     ]
    }
   ],
   "source": [
    "A = np.array([[1,2], [3,4]])\n",
    "B = np.array([[3,0], [0,6]])\n",
    "print(\"A : \", A)\n",
    "print(A.shape)\n",
    "print(A.dtype)\n",
    "C = A+B\n",
    "print(\"C : \", C)\n",
    "D = A*B\n",
    "print(\"D : \", D)\n",
    "print(\"A*10 : \", A*10)"
   ]
  },
  {
   "cell_type": "markdown",
   "metadata": {},
   "source": [
    "## 1.5.5 브로드캐스트\n",
    "행렬 곱셈"
   ]
  },
  {
   "cell_type": "code",
   "execution_count": 17,
   "metadata": {},
   "outputs": [
    {
     "name": "stdout",
     "output_type": "stream",
     "text": [
      "[[10 40]\n",
      " [30 80]]\n"
     ]
    }
   ],
   "source": [
    "B = np.array([10,20])\n",
    "print(A*B)"
   ]
  },
  {
   "cell_type": "markdown",
   "metadata": {},
   "source": [
    "## 1.5.6 원소 접근"
   ]
  },
  {
   "cell_type": "code",
   "execution_count": 29,
   "metadata": {},
   "outputs": [
    {
     "name": "stdout",
     "output_type": "stream",
     "text": [
      "X :  [[51 55]\n",
      " [14 19]\n",
      " [ 0  4]]\n",
      "X[0] : [51 55]\n",
      "X[0][1] 55\n",
      "X_vector :  [51 55 14 19  0  4]\n",
      "[51 14  0]\n",
      "X_vector > 15 :  [ True  True False  True False False]\n",
      "X가 15이상인 값 :  [51 55 19]\n"
     ]
    }
   ],
   "source": [
    "X = np.array([[51,55], [14,19], [0,4]])\n",
    "print(\"X : \", X)\n",
    "print(\"X[0] :\", X[0])\n",
    "print(\"X[0][1]\", X[0][1])\n",
    "\n",
    "X_vector = X.flatten()  # X를 1차원 배열로 변환(평탄화)\n",
    "print(\"X_vector : \",X_vector)\n",
    "print(X_vector[np.array([0,2,4])])  # 인덱스가 0,2,4인 원소 얻기\n",
    "print(\"X_vector > 15 : \", X_vector > 15)\n",
    "print(\"X가 15이상인 값 : \", X_vector[X_vector>15])"
   ]
  }
 ],
 "metadata": {
  "kernelspec": {
   "display_name": "Python 3",
   "language": "python",
   "name": "python3"
  },
  "language_info": {
   "codemirror_mode": {
    "name": "ipython",
    "version": 3
   },
   "file_extension": ".py",
   "mimetype": "text/x-python",
   "name": "python",
   "nbconvert_exporter": "python",
   "pygments_lexer": "ipython3",
   "version": "3.7.4"
  }
 },
 "nbformat": 4,
 "nbformat_minor": 4
}
