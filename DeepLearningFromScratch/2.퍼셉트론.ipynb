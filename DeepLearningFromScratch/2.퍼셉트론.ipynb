{
 "cells": [
  {
   "cell_type": "markdown",
   "metadata": {},
   "source": [
    "# 2.3 퍼셉트론 구현하기"
   ]
  },
  {
   "cell_type": "markdown",
   "metadata": {},
   "source": [
    "## 2.3.1 간단한 구현부터"
   ]
  },
  {
   "cell_type": "code",
   "execution_count": null,
   "metadata": {},
   "outputs": [],
   "source": [
    "def AND(x1,x2):\n",
    "    w1,w2,theta = 0.5,0.5,0.7\n",
    "    tmp = x1*w1 + x2*w2\n",
    "    if tmp <= theta:\n",
    "        return 0\n",
    "    elif tmp > theta:\n",
    "        return 1\n",
    "\n",
    "def logic(x1,x2):\n",
    "    w1,w2,theta = map(int,input().split())\n",
    "    tmp = x1*w1 + x2*w2\n",
    "    if tmp <= theta"
   ]
  },
  {
   "cell_type": "markdown",
   "metadata": {},
   "source": [
    "## 2.3.2 가중치와 편향 도입"
   ]
  },
  {
   "cell_type": "code",
   "execution_count": 8,
   "metadata": {},
   "outputs": [
    {
     "name": "stdout",
     "output_type": "stream",
     "text": [
      "w*x : [0.  0.5]\n",
      "sum of w*x : 0.5\n",
      "(sum of w*x) + b : -0.19999999999999996\n"
     ]
    }
   ],
   "source": [
    "import numpy as np\n",
    "x = np.array([0,1])\n",
    "w = np.array([0.5,0.5])\n",
    "b = -0.7\n",
    "print(\"w*x :\",w*x)\n",
    "print(\"sum of w*x :\",np.sum(w*x))\n",
    "print(\"(sum of w*x) + b :\",np.sum(w*x) + b)  # 대략  -0.2(부동소수점 수에 의한 연산 오차)"
   ]
  },
  {
   "cell_type": "markdown",
   "metadata": {},
   "source": [
    "## 가중치와 편향 구현하기"
   ]
  },
  {
   "cell_type": "code",
   "execution_count": 22,
   "metadata": {},
   "outputs": [
    {
     "name": "stdout",
     "output_type": "stream",
     "text": [
      "AND(0,0) : 0\n",
      "AND(0,1) : 0\n",
      "AND(1,0) : 0\n",
      "AND(1,1) : 1\n",
      "\n",
      "NAND(0,0) : 1\n",
      "NAND(0,1) : 1\n",
      "NAND(1,0) : 1\n",
      "NAND(1,1) : 0\n",
      "\n",
      "OR(0,0) : 0\n",
      "OR(0,1) : 1\n",
      "OR(1,0) : 1\n",
      "OR(1,1) : 1\n"
     ]
    },
    {
     "data": {
      "text/plain": [
       "1"
      ]
     },
     "execution_count": 22,
     "metadata": {},
     "output_type": "execute_result"
    }
   ],
   "source": [
    "def AND(x1,x2):\n",
    "    x = np.array([x1,x2])\n",
    "    w = np.array([0.5,0.5])\n",
    "    b = -0.7\n",
    "    tmp = np.sum(w*x) + b\n",
    "    if tmp <= 0:\n",
    "        print(\"AND({},{}) : {}\".format(x1,x2,0))\n",
    "        return 0\n",
    "    else:\n",
    "        print(\"AND({},{}) : {}\".format(x1,x2,1)) \n",
    "        return 1\n",
    "\n",
    "def NAND(x1,x2):\n",
    "    x = np.array([x1,x2])\n",
    "    w = np.array([-0.5,-0.5])\n",
    "    b = 0.7\n",
    "    tmp = np.sum(w*x) + b\n",
    "    if tmp <= 0:\n",
    "        print(\"NAND({},{}) : {}\".format(x1,x2,0))\n",
    "        return 0\n",
    "    else:\n",
    "        print(\"NAND({},{}) : {}\".format(x1,x2,1)) \n",
    "        return 1\n",
    "    \n",
    "def OR(x1,x2):\n",
    "    x = np.array([x1,x2])\n",
    "    w = np.array([0.5,0.5])\n",
    "    b = -0.4\n",
    "    tmp = np.sum(w*x) + b\n",
    "    if tmp <= 0:\n",
    "        print(\"OR({},{}) : {}\".format(x1,x2,0))\n",
    "        return 0\n",
    "    else:\n",
    "        print(\"OR({},{}) : {}\".format(x1,x2,1))\n",
    "        return 1\n",
    "        \n",
    "AND(0,0)\n",
    "AND(0,1)\n",
    "AND(1,0)\n",
    "AND(1,1)\n",
    "print()\n",
    "NAND(0,0)\n",
    "NAND(0,1)\n",
    "NAND(1,0)\n",
    "NAND(1,1)\n",
    "print()\n",
    "OR(0,0)\n",
    "OR(0,1)\n",
    "OR(1,0)\n",
    "OR(1,1)"
   ]
  },
  {
   "cell_type": "markdown",
   "metadata": {},
   "source": [
    "## 2.5.2 XOR 게이트 구현하기\n",
    "XOR 게이트는 NAND와 OR게이트를 지난후 그 두 결과값을 AND게이트에 지나게 하면 된다."
   ]
  },
  {
   "cell_type": "code",
   "execution_count": 27,
   "metadata": {},
   "outputs": [
    {
     "name": "stdout",
     "output_type": "stream",
     "text": [
      "NAND(0,0) : 1\n",
      "OR(0,0) : 0\n",
      "AND(1,0) : 0\n",
      "XOR(0,0) : 0\n",
      "\n",
      "NAND(0,1) : 1\n",
      "OR(0,1) : 1\n",
      "AND(1,1) : 1\n",
      "XOR(0,1) : 1\n",
      "\n",
      "NAND(1,0) : 1\n",
      "OR(1,0) : 1\n",
      "AND(1,1) : 1\n",
      "XOR(1,0) : 1\n",
      "\n",
      "NAND(1,1) : 0\n",
      "OR(1,1) : 1\n",
      "AND(0,1) : 0\n",
      "XOR(1,1) : 0\n",
      "\n"
     ]
    },
    {
     "data": {
      "text/plain": [
       "0"
      ]
     },
     "execution_count": 27,
     "metadata": {},
     "output_type": "execute_result"
    }
   ],
   "source": [
    "def XOR(x1, x2):\n",
    "    s1 = NAND(x1,x2)\n",
    "    s2 = OR(x1,x2)\n",
    "    y = AND(s1,s2)\n",
    "    print(\"XOR({},{}) : {}\".format(x1,x2,y))\n",
    "    print()\n",
    "    return y\n",
    "XOR(0,0)\n",
    "XOR(0,1)\n",
    "XOR(1,0)\n",
    "XOR(1,1)"
   ]
  },
  {
   "cell_type": "markdown",
   "metadata": {},
   "source": [
    "# 2.7 정리\n",
    "* 퍼셉트론은 입출력을 갖춘 알고리즘이다. 입력을 주면 정해진 규칙에 따른 값을 출력한다.\n",
    "* 퍼셉트론에서는 '가중치'와 '편향'을 매개변수로 설정한다.\n",
    "* 퍼셉트론으로 AND, OR 게이트 등의 논리 회로를 표현할 수 있다.\n",
    "* XOR 게이트는 단층 퍼셉트론으로는 표현할 수 없고, 2층 퍼셉트론을 이용해야 한다.\n",
    "* 단층 퍼셉트론은 직선형 영역만 표현할 수 있고, 다층 퍼셉트론은 비선형 영역도 표현할 수 있다.\n",
    "* 다층 퍼셉트론은 (이론상) 컴퓨터를 표현할 수 있다."
   ]
  }
 ],
 "metadata": {
  "kernelspec": {
   "display_name": "Python 3",
   "language": "python",
   "name": "python3"
  },
  "language_info": {
   "codemirror_mode": {
    "name": "ipython",
    "version": 3
   },
   "file_extension": ".py",
   "mimetype": "text/x-python",
   "name": "python",
   "nbconvert_exporter": "python",
   "pygments_lexer": "ipython3",
   "version": "3.7.4"
  }
 },
 "nbformat": 4,
 "nbformat_minor": 4
}
